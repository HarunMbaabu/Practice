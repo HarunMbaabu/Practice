{
 "cells": [
  {
   "cell_type": "code",
   "execution_count": 17,
   "id": "9d55c233",
   "metadata": {},
   "outputs": [
    {
     "data": {
      "text/plain": [
       "'hello from a function'"
      ]
     },
     "execution_count": 17,
     "metadata": {},
     "output_type": "execute_result"
    }
   ],
   "source": [
    "def name():\n",
    "    return \"hello from a function\"\n",
    "\n",
    "\n",
    "name()"
   ]
  },
  {
   "cell_type": "code",
   "execution_count": 18,
   "id": "2411b112",
   "metadata": {},
   "outputs": [
    {
     "data": {
      "text/plain": [
       "20"
      ]
     },
     "execution_count": 18,
     "metadata": {},
     "output_type": "execute_result"
    }
   ],
   "source": [
    "\n",
    "def add(x, y=18):\n",
    "    return x + y\n",
    "\n",
    "add(10,10)"
   ]
  },
  {
   "cell_type": "code",
   "execution_count": 19,
   "id": "f58676b7",
   "metadata": {},
   "outputs": [
    {
     "name": "stdout",
     "output_type": "stream",
     "text": [
      "1\n",
      "3\n",
      "6\n",
      "10\n",
      "15\n",
      "21\n",
      "28\n",
      "36\n",
      "45\n",
      "55\n"
     ]
    },
    {
     "data": {
      "text/plain": [
       "55"
      ]
     },
     "execution_count": 19,
     "metadata": {},
     "output_type": "execute_result"
    }
   ],
   "source": [
    "def tri(k):\n",
    "    if (k>0):\n",
    "        result = k + tri(k-1)\n",
    "        print(result)\n",
    "    else:\n",
    "        result = 0 \n",
    "    return result  \n",
    "\n",
    "\n",
    "tri(10)"
   ]
  }
 ],
 "metadata": {
  "kernelspec": {
   "display_name": "Python 3",
   "language": "python",
   "name": "python3"
  },
  "language_info": {
   "codemirror_mode": {
    "name": "ipython",
    "version": 3
   },
   "file_extension": ".py",
   "mimetype": "text/x-python",
   "name": "python",
   "nbconvert_exporter": "python",
   "pygments_lexer": "ipython3",
   "version": "3.8.8"
  }
 },
 "nbformat": 4,
 "nbformat_minor": 5
}
