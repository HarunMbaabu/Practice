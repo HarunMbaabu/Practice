{
 "cells": [
  {
   "cell_type": "code",
   "execution_count": 30,
   "id": "2ca1ac00",
   "metadata": {},
   "outputs": [],
   "source": [
    "todo = [ \"cook\", \"clean\", \"swim\", \"sleep\"]"
   ]
  },
  {
   "cell_type": "code",
   "execution_count": 31,
   "id": "6973db69",
   "metadata": {},
   "outputs": [],
   "source": [
    "todo[3] = \"Walk\""
   ]
  },
  {
   "cell_type": "code",
   "execution_count": 32,
   "id": "dde832eb",
   "metadata": {},
   "outputs": [
    {
     "data": {
      "text/plain": [
       "['cook', 'clean', 'swim', 'Walk']"
      ]
     },
     "execution_count": 32,
     "metadata": {},
     "output_type": "execute_result"
    }
   ],
   "source": [
    "todo"
   ]
  },
  {
   "cell_type": "code",
   "execution_count": 33,
   "id": "2d3f1827",
   "metadata": {},
   "outputs": [],
   "source": [
    "todo.append(\"Sleep\")"
   ]
  },
  {
   "cell_type": "code",
   "execution_count": 34,
   "id": "6a6ba84e",
   "metadata": {},
   "outputs": [
    {
     "data": {
      "text/plain": [
       "['cook', 'clean', 'swim', 'Walk', 'Sleep']"
      ]
     },
     "execution_count": 34,
     "metadata": {},
     "output_type": "execute_result"
    }
   ],
   "source": [
    "todo"
   ]
  },
  {
   "cell_type": "code",
   "execution_count": 35,
   "id": "b19292e5",
   "metadata": {},
   "outputs": [
    {
     "ename": "ValueError",
     "evalue": "list.remove(x): x not in list",
     "output_type": "error",
     "traceback": [
      "\u001b[0;31m---------------------------------------------------------------------------\u001b[0m",
      "\u001b[0;31mValueError\u001b[0m                                Traceback (most recent call last)",
      "\u001b[0;32m<ipython-input-35-aeec4c05bc7f>\u001b[0m in \u001b[0;36m<module>\u001b[0;34m\u001b[0m\n\u001b[0;32m----> 1\u001b[0;31m \u001b[0mtodo\u001b[0m\u001b[0;34m.\u001b[0m\u001b[0mremove\u001b[0m\u001b[0;34m(\u001b[0m\u001b[0;34m\"sleep\"\u001b[0m\u001b[0;34m)\u001b[0m\u001b[0;34m\u001b[0m\u001b[0;34m\u001b[0m\u001b[0m\n\u001b[0m",
      "\u001b[0;31mValueError\u001b[0m: list.remove(x): x not in list"
     ]
    }
   ],
   "source": [
    "todo.remove(\"sleep\")"
   ]
  }
 ],
 "metadata": {
  "kernelspec": {
   "display_name": "Python 3",
   "language": "python",
   "name": "python3"
  },
  "language_info": {
   "codemirror_mode": {
    "name": "ipython",
    "version": 3
   },
   "file_extension": ".py",
   "mimetype": "text/x-python",
   "name": "python",
   "nbconvert_exporter": "python",
   "pygments_lexer": "ipython3",
   "version": "3.8.8"
  }
 },
 "nbformat": 4,
 "nbformat_minor": 5
}
